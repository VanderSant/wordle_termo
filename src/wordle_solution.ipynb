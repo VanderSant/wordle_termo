{
 "cells": [
  {
   "cell_type": "code",
   "execution_count": 29,
   "metadata": {},
   "outputs": [],
   "source": [
    "#!/usr/bin/env python3\n",
    "#coding=utf-8\n",
    "\n",
    "#includes\n",
    "import numpy as np\n",
    "import pandas as pd"
   ]
  },
  {
   "cell_type": "code",
   "execution_count": 30,
   "metadata": {},
   "outputs": [],
   "source": [
    "# constants\n",
    "\n",
    "WORDLE_POSSIBLE_WORDS_PATH = \"docs/wordle/all_possibles_words.txt\"\n",
    "WORDLE_ALL_WORDS_PATH = \"docs/wordle/all_words.txt\"\n",
    "\n",
    "WORDLE_INITIAL_SOLUTION_PATH = \"results/wordle/initial_rank_wordle_words.csv\"\n",
    "\n",
    "WORDLE_GREEN_COLOR_SIMBOL = '2'\n",
    "WORDLE_YELLOW_COLOR_SIMBOL = '1'"
   ]
  },
  {
   "cell_type": "code",
   "execution_count": 31,
   "metadata": {},
   "outputs": [],
   "source": [
    "def evaluate_step(word,solutions):\n",
    "    green_color_num,yellow_color_num = 0,0\n",
    "    good_word_prob = 0\n",
    "    for solution in solutions:\n",
    "        has_green_color,has_yellow_color = False,False\n",
    "        solution_list = list(solution)\n",
    "        word_list = list(word)\n",
    "        for (i,_) in enumerate(word_list):\n",
    "            if(word_list[i] == solution_list[i]):\n",
    "                green_color_num += 1\n",
    "                has_green_color = True\n",
    "                solution_list[i] = WORDLE_GREEN_COLOR_SIMBOL\n",
    "                word_list[i] = WORDLE_GREEN_COLOR_SIMBOL\n",
    "\n",
    "        for (i,word_char) in enumerate(word_list):\n",
    "            if((word_char == WORDLE_GREEN_COLOR_SIMBOL) or (word_list[i] == WORDLE_YELLOW_COLOR_SIMBOL)):\n",
    "                continue\n",
    "            elif(word_char in solution_list):\n",
    "                yellow_color_num += 1\n",
    "                has_yellow_color = True\n",
    "                pos_char_sol = solution_list.index(word_char)\n",
    "                pos_char_word = word_list.index(word_char)\n",
    "                solution_list[pos_char_sol] = WORDLE_YELLOW_COLOR_SIMBOL\n",
    "                word_list[pos_char_word] = WORDLE_YELLOW_COLOR_SIMBOL\n",
    "\n",
    "        good_word = (1 if(has_green_color or has_yellow_color) else 0)\n",
    "        good_word_prob += good_word\n",
    "\n",
    "    good_word_prob = good_word_prob/len(solutions)\n",
    "    return green_color_num,yellow_color_num,good_word_prob\n",
    "\n",
    "def evaluate(possi_words,all_words):\n",
    "    rank_words = pd.DataFrame(columns=['word','green_color_num','yellow_color_num','good_word_prob'])\n",
    "\n",
    "    for word in all_words:\n",
    "        eright_pos,eyellow_color_num,egood_word_prob = evaluate_step(word,possi_words)\n",
    "        rank_words = rank_words.append({'word':word,'green_color_num':eright_pos,'yellow_color_num':eyellow_color_num,'good_word_prob':egood_word_prob}, ignore_index=True)\n",
    "\n",
    "    return rank_words\n",
    "\n",
    "def generate_initial_evaluate_list():\n",
    "    with open(WORDLE_POSSIBLE_WORDS_PATH) as f:\n",
    "        possi_words_list = [line.rstrip('\\n') for line in f]\n",
    "    possi_words = np.array(possi_words_list)\n",
    "\n",
    "    with open(WORDLE_ALL_WORDS_PATH) as f:\n",
    "        all_words_list = [line.rstrip('\\n') for line in f]\n",
    "    all_words = np.array(all_words_list)\n",
    "\n",
    "    # tranform dataframe to csv file\n",
    "    rank_words = evaluate(possi_words,all_words)\n",
    "    rank_words = rank_words.sort_values(by=['good_word_prob'],ascending=False) #sort values\n",
    "    rank_words.to_csv(WORDLE_INITIAL_SOLUTION_PATH,index=False)\n",
    "    print(rank_words) \n"
   ]
  },
  {
   "cell_type": "code",
   "execution_count": 32,
   "metadata": {},
   "outputs": [
    {
     "name": "stdout",
     "output_type": "stream",
     "text": [
      "       word green_color_num yellow_color_num  good_word_prob\n",
      "9778  uraei             936             2963        0.951082\n",
      "526   aurei             817             3082        0.951082\n",
      "517   auloi             580             2747        0.932035\n",
      "88    adieu             745             2688        0.930303\n",
      "257   aloes             937             2959        0.930303\n",
      "...     ...             ...              ...             ...\n",
      "8912  susus             748              386        0.408658\n",
      "3266  fuffy             744              357        0.406061\n",
      "3826  gyppy             608              478        0.403463\n",
      "4545  jugum             396              694        0.390909\n",
      "4308  immix             299              721        0.383117\n",
      "\n",
      "[10638 rows x 4 columns]\n"
     ]
    }
   ],
   "source": [
    "#test_evaluate\n",
    "if __name__ == \"__main__\":\n",
    "    try:\n",
    "        generate_initial_evaluate_list()\n",
    "    except KeyboardInterrupt:\n",
    "        print(\"\\nBetter luck next time\")"
   ]
  },
  {
   "cell_type": "code",
   "execution_count": 33,
   "metadata": {},
   "outputs": [],
   "source": [
    "def main():\n",
    "    with open(WORDLE_POSSIBLE_WORDS_PATH) as f:\n",
    "        possible_solutions_list = [line.rstrip('\\n') for line in f]\n",
    "    possible_solutions = np.array(possible_solutions_list)\n",
    "\n",
    "    with open(WORDLE_ALL_WORDS_PATH) as f:\n",
    "        all_words_list = [line.rstrip('\\n') for line in f]\n",
    "    all_words = np.array(all_words_list)\n",
    "\n",
    "    \n",
    "    colors = [0]*5\n",
    "    while(colors != [2]*5):\n",
    "        rank_words = rank_words.sort_values(by=['good_word_prob'],ascending=False) #sort values\n",
    "\n",
    "\n",
    "    "
   ]
  }
 ],
 "metadata": {
  "interpreter": {
   "hash": "31f2aee4e71d21fbe5cf8b01ff0e069b9275f58929596ceb00d14d90e3e16cd6"
  },
  "kernelspec": {
   "display_name": "Python 3.6.9 64-bit",
   "language": "python",
   "name": "python3"
  },
  "language_info": {
   "codemirror_mode": {
    "name": "ipython",
    "version": 3
   },
   "file_extension": ".py",
   "mimetype": "text/x-python",
   "name": "python",
   "nbconvert_exporter": "python",
   "pygments_lexer": "ipython3",
   "version": "3.6.9"
  },
  "orig_nbformat": 4
 },
 "nbformat": 4,
 "nbformat_minor": 2
}
